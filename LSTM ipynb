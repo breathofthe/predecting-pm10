{
  "nbformat": 4,
  "nbformat_minor": 0,
  "metadata": {
    "colab": {
      "provenance": [],
      "toc_visible": true,
      "authorship_tag": "ABX9TyMfjO45oknagj5TgwSHXokJ",
      "include_colab_link": true
    },
    "kernelspec": {
      "name": "python3",
      "display_name": "Python 3"
    },
    "language_info": {
      "name": "python"
    }
  },
  "cells": [
    {
      "cell_type": "markdown",
      "metadata": {
        "id": "view-in-github",
        "colab_type": "text"
      },
      "source": [
        "<a href=\"https://colab.research.google.com/github/breathofthe/predicting-pm10/blob/main/predecting_pm10.ipynb\" target=\"_parent\"><img src=\"https://colab.research.google.com/assets/colab-badge.svg\" alt=\"Open In Colab\"/></a>"
      ]
    },
    {
      "cell_type": "markdown",
      "source": [
        "# pm10 값 예측하기"
      ],
      "metadata": {
        "id": "IOQWYWdW5VSn"
      }
    },
    {
      "cell_type": "code",
      "source": [
        "import pandas as pd\n",
        "import numpy as np\n",
        "from sklearn.preprocessing import MinMaxScaler\n",
        "import tensorflow as tf\n",
        "from tensorflow.keras.models import Sequential\n",
        "from tensorflow.keras.layers import Dense, LSTM\n",
        "from sklearn.metrics import mean_absolute_error, mean_squared_error"
      ],
      "metadata": {
        "id": "MBAklY2u8Hym"
      },
      "execution_count": 7,
      "outputs": []
    },
    {
      "cell_type": "code",
      "source": [
        "data = pd.read_csv('PM10_fin_2.csv', parse_dates=['Date'], index_col='Date')"
      ],
      "metadata": {
        "id": "8SsHQpok8Oer"
      },
      "execution_count": 8,
      "outputs": []
    },
    {
      "cell_type": "markdown",
      "source": [
        "##데이터 전처리"
      ],
      "metadata": {
        "id": "-NRFVAPRt4z-"
      }
    },
    {
      "cell_type": "markdown",
      "source": [
        "첫번째 열이 날짜데이터이므로 `pm10` 예측에는 사용되지 않을 것이다."
      ],
      "metadata": {
        "id": "seuBLZBUs6Vb"
      }
    },
    {
      "cell_type": "code",
      "source": [
        "data.head()"
      ],
      "metadata": {
        "colab": {
          "base_uri": "https://localhost:8080/",
          "height": 237
        },
        "id": "Jas7DljQ-gT9",
        "outputId": "f575fb76-5c8c-4df3-87f6-96296123ff90"
      },
      "execution_count": 3,
      "outputs": [
        {
          "output_type": "execute_result",
          "data": {
            "text/plain": [
              "                     TRUCK  VESSEL_NO  VESSEL_GT  PM10     O3    NO2   CO  \\\n",
              "Date                                                                        \n",
              "2020-09-01 07:00:00    2.0         68   934538.0  17.0  0.025  0.009  0.1   \n",
              "2020-09-01 08:00:00   91.0         71   965712.0  17.0  0.020  0.014  0.1   \n",
              "2020-09-01 09:00:00  145.0         75  1111570.0  14.0  0.019  0.015  0.1   \n",
              "2020-09-01 10:00:00  153.0         77  1120758.0  21.0  0.021  0.014  0.1   \n",
              "2020-09-01 11:00:00  178.0         72  1113430.0  13.0  0.026  0.012  0.2   \n",
              "\n",
              "                       SO2  TEMP  RAIN  WIND   HMD  \n",
              "Date                                                \n",
              "2020-09-01 07:00:00  0.001  24.0   0.0   2.7  70.0  \n",
              "2020-09-01 08:00:00  0.001  24.6   0.0   3.4  69.0  \n",
              "2020-09-01 09:00:00  0.002  24.7   0.0   2.0  72.0  \n",
              "2020-09-01 10:00:00  0.002  26.9   0.0   2.4  67.0  \n",
              "2020-09-01 11:00:00  0.002  28.4   0.0   3.0  63.0  "
            ],
            "text/html": [
              "\n",
              "  <div id=\"df-d131f5be-fd06-49bd-b0df-e6755202fb20\" class=\"colab-df-container\">\n",
              "    <div>\n",
              "<style scoped>\n",
              "    .dataframe tbody tr th:only-of-type {\n",
              "        vertical-align: middle;\n",
              "    }\n",
              "\n",
              "    .dataframe tbody tr th {\n",
              "        vertical-align: top;\n",
              "    }\n",
              "\n",
              "    .dataframe thead th {\n",
              "        text-align: right;\n",
              "    }\n",
              "</style>\n",
              "<table border=\"1\" class=\"dataframe\">\n",
              "  <thead>\n",
              "    <tr style=\"text-align: right;\">\n",
              "      <th></th>\n",
              "      <th>TRUCK</th>\n",
              "      <th>VESSEL_NO</th>\n",
              "      <th>VESSEL_GT</th>\n",
              "      <th>PM10</th>\n",
              "      <th>O3</th>\n",
              "      <th>NO2</th>\n",
              "      <th>CO</th>\n",
              "      <th>SO2</th>\n",
              "      <th>TEMP</th>\n",
              "      <th>RAIN</th>\n",
              "      <th>WIND</th>\n",
              "      <th>HMD</th>\n",
              "    </tr>\n",
              "    <tr>\n",
              "      <th>Date</th>\n",
              "      <th></th>\n",
              "      <th></th>\n",
              "      <th></th>\n",
              "      <th></th>\n",
              "      <th></th>\n",
              "      <th></th>\n",
              "      <th></th>\n",
              "      <th></th>\n",
              "      <th></th>\n",
              "      <th></th>\n",
              "      <th></th>\n",
              "      <th></th>\n",
              "    </tr>\n",
              "  </thead>\n",
              "  <tbody>\n",
              "    <tr>\n",
              "      <th>2020-09-01 07:00:00</th>\n",
              "      <td>2.0</td>\n",
              "      <td>68</td>\n",
              "      <td>934538.0</td>\n",
              "      <td>17.0</td>\n",
              "      <td>0.025</td>\n",
              "      <td>0.009</td>\n",
              "      <td>0.1</td>\n",
              "      <td>0.001</td>\n",
              "      <td>24.0</td>\n",
              "      <td>0.0</td>\n",
              "      <td>2.7</td>\n",
              "      <td>70.0</td>\n",
              "    </tr>\n",
              "    <tr>\n",
              "      <th>2020-09-01 08:00:00</th>\n",
              "      <td>91.0</td>\n",
              "      <td>71</td>\n",
              "      <td>965712.0</td>\n",
              "      <td>17.0</td>\n",
              "      <td>0.020</td>\n",
              "      <td>0.014</td>\n",
              "      <td>0.1</td>\n",
              "      <td>0.001</td>\n",
              "      <td>24.6</td>\n",
              "      <td>0.0</td>\n",
              "      <td>3.4</td>\n",
              "      <td>69.0</td>\n",
              "    </tr>\n",
              "    <tr>\n",
              "      <th>2020-09-01 09:00:00</th>\n",
              "      <td>145.0</td>\n",
              "      <td>75</td>\n",
              "      <td>1111570.0</td>\n",
              "      <td>14.0</td>\n",
              "      <td>0.019</td>\n",
              "      <td>0.015</td>\n",
              "      <td>0.1</td>\n",
              "      <td>0.002</td>\n",
              "      <td>24.7</td>\n",
              "      <td>0.0</td>\n",
              "      <td>2.0</td>\n",
              "      <td>72.0</td>\n",
              "    </tr>\n",
              "    <tr>\n",
              "      <th>2020-09-01 10:00:00</th>\n",
              "      <td>153.0</td>\n",
              "      <td>77</td>\n",
              "      <td>1120758.0</td>\n",
              "      <td>21.0</td>\n",
              "      <td>0.021</td>\n",
              "      <td>0.014</td>\n",
              "      <td>0.1</td>\n",
              "      <td>0.002</td>\n",
              "      <td>26.9</td>\n",
              "      <td>0.0</td>\n",
              "      <td>2.4</td>\n",
              "      <td>67.0</td>\n",
              "    </tr>\n",
              "    <tr>\n",
              "      <th>2020-09-01 11:00:00</th>\n",
              "      <td>178.0</td>\n",
              "      <td>72</td>\n",
              "      <td>1113430.0</td>\n",
              "      <td>13.0</td>\n",
              "      <td>0.026</td>\n",
              "      <td>0.012</td>\n",
              "      <td>0.2</td>\n",
              "      <td>0.002</td>\n",
              "      <td>28.4</td>\n",
              "      <td>0.0</td>\n",
              "      <td>3.0</td>\n",
              "      <td>63.0</td>\n",
              "    </tr>\n",
              "  </tbody>\n",
              "</table>\n",
              "</div>\n",
              "    <div class=\"colab-df-buttons\">\n",
              "\n",
              "  <div class=\"colab-df-container\">\n",
              "    <button class=\"colab-df-convert\" onclick=\"convertToInteractive('df-d131f5be-fd06-49bd-b0df-e6755202fb20')\"\n",
              "            title=\"Convert this dataframe to an interactive table.\"\n",
              "            style=\"display:none;\">\n",
              "\n",
              "  <svg xmlns=\"http://www.w3.org/2000/svg\" height=\"24px\" viewBox=\"0 -960 960 960\">\n",
              "    <path d=\"M120-120v-720h720v720H120Zm60-500h600v-160H180v160Zm220 220h160v-160H400v160Zm0 220h160v-160H400v160ZM180-400h160v-160H180v160Zm440 0h160v-160H620v160ZM180-180h160v-160H180v160Zm440 0h160v-160H620v160Z\"/>\n",
              "  </svg>\n",
              "    </button>\n",
              "\n",
              "  <style>\n",
              "    .colab-df-container {\n",
              "      display:flex;\n",
              "      gap: 12px;\n",
              "    }\n",
              "\n",
              "    .colab-df-convert {\n",
              "      background-color: #E8F0FE;\n",
              "      border: none;\n",
              "      border-radius: 50%;\n",
              "      cursor: pointer;\n",
              "      display: none;\n",
              "      fill: #1967D2;\n",
              "      height: 32px;\n",
              "      padding: 0 0 0 0;\n",
              "      width: 32px;\n",
              "    }\n",
              "\n",
              "    .colab-df-convert:hover {\n",
              "      background-color: #E2EBFA;\n",
              "      box-shadow: 0px 1px 2px rgba(60, 64, 67, 0.3), 0px 1px 3px 1px rgba(60, 64, 67, 0.15);\n",
              "      fill: #174EA6;\n",
              "    }\n",
              "\n",
              "    .colab-df-buttons div {\n",
              "      margin-bottom: 4px;\n",
              "    }\n",
              "\n",
              "    [theme=dark] .colab-df-convert {\n",
              "      background-color: #3B4455;\n",
              "      fill: #D2E3FC;\n",
              "    }\n",
              "\n",
              "    [theme=dark] .colab-df-convert:hover {\n",
              "      background-color: #434B5C;\n",
              "      box-shadow: 0px 1px 3px 1px rgba(0, 0, 0, 0.15);\n",
              "      filter: drop-shadow(0px 1px 2px rgba(0, 0, 0, 0.3));\n",
              "      fill: #FFFFFF;\n",
              "    }\n",
              "  </style>\n",
              "\n",
              "    <script>\n",
              "      const buttonEl =\n",
              "        document.querySelector('#df-d131f5be-fd06-49bd-b0df-e6755202fb20 button.colab-df-convert');\n",
              "      buttonEl.style.display =\n",
              "        google.colab.kernel.accessAllowed ? 'block' : 'none';\n",
              "\n",
              "      async function convertToInteractive(key) {\n",
              "        const element = document.querySelector('#df-d131f5be-fd06-49bd-b0df-e6755202fb20');\n",
              "        const dataTable =\n",
              "          await google.colab.kernel.invokeFunction('convertToInteractive',\n",
              "                                                    [key], {});\n",
              "        if (!dataTable) return;\n",
              "\n",
              "        const docLinkHtml = 'Like what you see? Visit the ' +\n",
              "          '<a target=\"_blank\" href=https://colab.research.google.com/notebooks/data_table.ipynb>data table notebook</a>'\n",
              "          + ' to learn more about interactive tables.';\n",
              "        element.innerHTML = '';\n",
              "        dataTable['output_type'] = 'display_data';\n",
              "        await google.colab.output.renderOutput(dataTable, element);\n",
              "        const docLink = document.createElement('div');\n",
              "        docLink.innerHTML = docLinkHtml;\n",
              "        element.appendChild(docLink);\n",
              "      }\n",
              "    </script>\n",
              "  </div>\n",
              "\n",
              "\n",
              "<div id=\"df-21ffdc8e-a222-40dc-94f4-4a2f3428f0c6\">\n",
              "  <button class=\"colab-df-quickchart\" onclick=\"quickchart('df-21ffdc8e-a222-40dc-94f4-4a2f3428f0c6')\"\n",
              "            title=\"Suggest charts\"\n",
              "            style=\"display:none;\">\n",
              "\n",
              "<svg xmlns=\"http://www.w3.org/2000/svg\" height=\"24px\"viewBox=\"0 0 24 24\"\n",
              "     width=\"24px\">\n",
              "    <g>\n",
              "        <path d=\"M19 3H5c-1.1 0-2 .9-2 2v14c0 1.1.9 2 2 2h14c1.1 0 2-.9 2-2V5c0-1.1-.9-2-2-2zM9 17H7v-7h2v7zm4 0h-2V7h2v10zm4 0h-2v-4h2v4z\"/>\n",
              "    </g>\n",
              "</svg>\n",
              "  </button>\n",
              "\n",
              "<style>\n",
              "  .colab-df-quickchart {\n",
              "      --bg-color: #E8F0FE;\n",
              "      --fill-color: #1967D2;\n",
              "      --hover-bg-color: #E2EBFA;\n",
              "      --hover-fill-color: #174EA6;\n",
              "      --disabled-fill-color: #AAA;\n",
              "      --disabled-bg-color: #DDD;\n",
              "  }\n",
              "\n",
              "  [theme=dark] .colab-df-quickchart {\n",
              "      --bg-color: #3B4455;\n",
              "      --fill-color: #D2E3FC;\n",
              "      --hover-bg-color: #434B5C;\n",
              "      --hover-fill-color: #FFFFFF;\n",
              "      --disabled-bg-color: #3B4455;\n",
              "      --disabled-fill-color: #666;\n",
              "  }\n",
              "\n",
              "  .colab-df-quickchart {\n",
              "    background-color: var(--bg-color);\n",
              "    border: none;\n",
              "    border-radius: 50%;\n",
              "    cursor: pointer;\n",
              "    display: none;\n",
              "    fill: var(--fill-color);\n",
              "    height: 32px;\n",
              "    padding: 0;\n",
              "    width: 32px;\n",
              "  }\n",
              "\n",
              "  .colab-df-quickchart:hover {\n",
              "    background-color: var(--hover-bg-color);\n",
              "    box-shadow: 0 1px 2px rgba(60, 64, 67, 0.3), 0 1px 3px 1px rgba(60, 64, 67, 0.15);\n",
              "    fill: var(--button-hover-fill-color);\n",
              "  }\n",
              "\n",
              "  .colab-df-quickchart-complete:disabled,\n",
              "  .colab-df-quickchart-complete:disabled:hover {\n",
              "    background-color: var(--disabled-bg-color);\n",
              "    fill: var(--disabled-fill-color);\n",
              "    box-shadow: none;\n",
              "  }\n",
              "\n",
              "  .colab-df-spinner {\n",
              "    border: 2px solid var(--fill-color);\n",
              "    border-color: transparent;\n",
              "    border-bottom-color: var(--fill-color);\n",
              "    animation:\n",
              "      spin 1s steps(1) infinite;\n",
              "  }\n",
              "\n",
              "  @keyframes spin {\n",
              "    0% {\n",
              "      border-color: transparent;\n",
              "      border-bottom-color: var(--fill-color);\n",
              "      border-left-color: var(--fill-color);\n",
              "    }\n",
              "    20% {\n",
              "      border-color: transparent;\n",
              "      border-left-color: var(--fill-color);\n",
              "      border-top-color: var(--fill-color);\n",
              "    }\n",
              "    30% {\n",
              "      border-color: transparent;\n",
              "      border-left-color: var(--fill-color);\n",
              "      border-top-color: var(--fill-color);\n",
              "      border-right-color: var(--fill-color);\n",
              "    }\n",
              "    40% {\n",
              "      border-color: transparent;\n",
              "      border-right-color: var(--fill-color);\n",
              "      border-top-color: var(--fill-color);\n",
              "    }\n",
              "    60% {\n",
              "      border-color: transparent;\n",
              "      border-right-color: var(--fill-color);\n",
              "    }\n",
              "    80% {\n",
              "      border-color: transparent;\n",
              "      border-right-color: var(--fill-color);\n",
              "      border-bottom-color: var(--fill-color);\n",
              "    }\n",
              "    90% {\n",
              "      border-color: transparent;\n",
              "      border-bottom-color: var(--fill-color);\n",
              "    }\n",
              "  }\n",
              "</style>\n",
              "\n",
              "  <script>\n",
              "    async function quickchart(key) {\n",
              "      const quickchartButtonEl =\n",
              "        document.querySelector('#' + key + ' button');\n",
              "      quickchartButtonEl.disabled = true;  // To prevent multiple clicks.\n",
              "      quickchartButtonEl.classList.add('colab-df-spinner');\n",
              "      try {\n",
              "        const charts = await google.colab.kernel.invokeFunction(\n",
              "            'suggestCharts', [key], {});\n",
              "      } catch (error) {\n",
              "        console.error('Error during call to suggestCharts:', error);\n",
              "      }\n",
              "      quickchartButtonEl.classList.remove('colab-df-spinner');\n",
              "      quickchartButtonEl.classList.add('colab-df-quickchart-complete');\n",
              "    }\n",
              "    (() => {\n",
              "      let quickchartButtonEl =\n",
              "        document.querySelector('#df-21ffdc8e-a222-40dc-94f4-4a2f3428f0c6 button');\n",
              "      quickchartButtonEl.style.display =\n",
              "        google.colab.kernel.accessAllowed ? 'block' : 'none';\n",
              "    })();\n",
              "  </script>\n",
              "</div>\n",
              "\n",
              "    </div>\n",
              "  </div>\n"
            ],
            "application/vnd.google.colaboratory.intrinsic+json": {
              "type": "dataframe",
              "variable_name": "data",
              "summary": "{\n  \"name\": \"data\",\n  \"rows\": 10239,\n  \"fields\": [\n    {\n      \"column\": \"Date\",\n      \"properties\": {\n        \"dtype\": \"date\",\n        \"min\": \"2020-09-01 07:00:00\",\n        \"max\": \"2021-12-31 23:00:00\",\n        \"num_unique_values\": 10239,\n        \"samples\": [\n          \"2021-03-17 01:00:00\",\n          \"2021-07-20 03:00:00\",\n          \"2021-04-22 05:00:00\"\n        ],\n        \"semantic_type\": \"\",\n        \"description\": \"\"\n      }\n    },\n    {\n      \"column\": \"TRUCK\",\n      \"properties\": {\n        \"dtype\": \"number\",\n        \"std\": 87.33131051904725,\n        \"min\": 0.0,\n        \"max\": 3508.0,\n        \"num_unique_values\": 361,\n        \"samples\": [\n          40.0,\n          115.0,\n          110.0\n        ],\n        \"semantic_type\": \"\",\n        \"description\": \"\"\n      }\n    },\n    {\n      \"column\": \"VESSEL_NO\",\n      \"properties\": {\n        \"dtype\": \"number\",\n        \"std\": 16,\n        \"min\": 56,\n        \"max\": 170,\n        \"num_unique_values\": 107,\n        \"samples\": [\n          162,\n          80,\n          72\n        ],\n        \"semantic_type\": \"\",\n        \"description\": \"\"\n      }\n    },\n    {\n      \"column\": \"VESSEL_GT\",\n      \"properties\": {\n        \"dtype\": \"number\",\n        \"std\": 578436.2940906268,\n        \"min\": 587179.0,\n        \"max\": 4349163.0,\n        \"num_unique_values\": 9260,\n        \"samples\": [\n          1581048.0,\n          1871942.0,\n          2513314.0\n        ],\n        \"semantic_type\": \"\",\n        \"description\": \"\"\n      }\n    },\n    {\n      \"column\": \"PM10\",\n      \"properties\": {\n        \"dtype\": \"number\",\n        \"std\": 15.10750676539437,\n        \"min\": 2.0,\n        \"max\": 73.0,\n        \"num_unique_values\": 280,\n        \"samples\": [\n          46.0,\n          49.29111615323676,\n          54.33007946812011\n        ],\n        \"semantic_type\": \"\",\n        \"description\": \"\"\n      }\n    },\n    {\n      \"column\": \"O3\",\n      \"properties\": {\n        \"dtype\": \"number\",\n        \"std\": 0.016215435889864325,\n        \"min\": 0.0,\n        \"max\": 0.147,\n        \"num_unique_values\": 146,\n        \"samples\": [\n          0.032,\n          0.068,\n          0.034\n        ],\n        \"semantic_type\": \"\",\n        \"description\": \"\"\n      }\n    },\n    {\n      \"column\": \"NO2\",\n      \"properties\": {\n        \"dtype\": \"number\",\n        \"std\": 0.010880577370927784,\n        \"min\": 0.0,\n        \"max\": 0.089,\n        \"num_unique_values\": 109,\n        \"samples\": [\n          0.064,\n          0.042,\n          0.008\n        ],\n        \"semantic_type\": \"\",\n        \"description\": \"\"\n      }\n    },\n    {\n      \"column\": \"CO\",\n      \"properties\": {\n        \"dtype\": \"number\",\n        \"std\": 0.18229108524266652,\n        \"min\": 0.1,\n        \"max\": 3.0,\n        \"num_unique_values\": 32,\n        \"samples\": [\n          0.6000000000000001,\n          1.9,\n          0.25\n        ],\n        \"semantic_type\": \"\",\n        \"description\": \"\"\n      }\n    },\n    {\n      \"column\": \"SO2\",\n      \"properties\": {\n        \"dtype\": \"number\",\n        \"std\": 0.00246554088324902,\n        \"min\": 0.001,\n        \"max\": 0.032,\n        \"num_unique_values\": 40,\n        \"samples\": [\n          0.023,\n          0.012,\n          0.026\n        ],\n        \"semantic_type\": \"\",\n        \"description\": \"\"\n      }\n    },\n    {\n      \"column\": \"TEMP\",\n      \"properties\": {\n        \"dtype\": \"number\",\n        \"std\": 9.015922996938231,\n        \"min\": -11.4,\n        \"max\": 35.6,\n        \"num_unique_values\": 446,\n        \"samples\": [\n          -3.9,\n          -10.5,\n          12.1\n        ],\n        \"semantic_type\": \"\",\n        \"description\": \"\"\n      }\n    },\n    {\n      \"column\": \"RAIN\",\n      \"properties\": {\n        \"dtype\": \"number\",\n        \"std\": 1.2253746205578724,\n        \"min\": 0.0,\n        \"max\": 48.0,\n        \"num_unique_values\": 62,\n        \"samples\": [\n          6.3,\n          1.3,\n          0.0\n        ],\n        \"semantic_type\": \"\",\n        \"description\": \"\"\n      }\n    },\n    {\n      \"column\": \"WIND\",\n      \"properties\": {\n        \"dtype\": \"number\",\n        \"std\": 1.3521624543703539,\n        \"min\": 0.0,\n        \"max\": 8.6,\n        \"num_unique_values\": 77,\n        \"samples\": [\n          3.0,\n          3.7,\n          0.4\n        ],\n        \"semantic_type\": \"\",\n        \"description\": \"\"\n      }\n    },\n    {\n      \"column\": \"HMD\",\n      \"properties\": {\n        \"dtype\": \"number\",\n        \"std\": 19.46189047100178,\n        \"min\": 10.0,\n        \"max\": 99.0,\n        \"num_unique_values\": 91,\n        \"samples\": [\n          49.0,\n          77.0,\n          37.0\n        ],\n        \"semantic_type\": \"\",\n        \"description\": \"\"\n      }\n    }\n  ]\n}"
            }
          },
          "metadata": {},
          "execution_count": 3
        }
      ]
    },
    {
      "cell_type": "markdown",
      "source": [
        "**훈련데이터와 시험데이터 분리**\n",
        "\n",
        "`2020-09-01`부터`2021-09-30`기간에 데이터를 훈련데이터로\n",
        "\n",
        "`2021-10-01`부터`2021-12-31`기간에 데이터를 시험데이터로 하자"
      ],
      "metadata": {
        "id": "pqMQSUDy0F5f"
      }
    },
    {
      "cell_type": "code",
      "source": [
        "train_data = data['2020-09-01':'2021-09-30']\n",
        "test_data = data['2021-10-01':'2021-12-31']"
      ],
      "metadata": {
        "id": "08LniAZe8QRl"
      },
      "execution_count": 9,
      "outputs": []
    },
    {
      "cell_type": "markdown",
      "source": [
        "`feature`들이 서로 다른 범위를 가지므로\n",
        "`scailng`하여 일정한 범위로 조절 해야한다.\n",
        "\n",
        "> 이때 첫번째 열은 제외하고 `scaling`을 진행한다"
      ],
      "metadata": {
        "id": "-5zbF_ZM0Msd"
      }
    },
    {
      "cell_type": "code",
      "source": [
        "scaler = MinMaxScaler()\n",
        "train_scaled = scaler.fit_transform(train_data.iloc[:, 1:])\n",
        "test_scaled = scaler.transform(test_data.iloc[:, 1:])"
      ],
      "metadata": {
        "id": "IlWtd6Gm33BO"
      },
      "execution_count": 10,
      "outputs": []
    },
    {
      "cell_type": "markdown",
      "source": [
        "##시계열 데이터셋 함수 설정"
      ],
      "metadata": {
        "id": "Js-Qo2vnHbO3"
      }
    },
    {
      "cell_type": "markdown",
      "source": [
        "특정시점의 `pm10`을 예측하기 위해서는 3일동안 측정된 데이터가 필요하다.\n",
        "\n",
        "즉, 특정시점으로부터 직전 3일동안의 `pm10`의 값이 필요하다.\n",
        "\n",
        "그런데 우리는 예측하고자하는 특정시점의 `pm10`값을 모를뿐 그 시점에서 다른 변수들을 관측이 가능하다.\n",
        "\n",
        "따라서 `pm10`변수를 제외한 나머지 `feature`들에 대해서는 현재시점을 포함한 4일동안의 관측된 데이터가 필요하다.\n",
        "\n"
      ],
      "metadata": {
        "id": "x9XP_JL4uJob"
      }
    },
    {
      "cell_type": "code",
      "source": [
        "\n",
        "def create_dataset(data, time_step_X=4, time_step_Y=3):\n",
        "    X, Y = [], []\n",
        "    for i in range(len(data) - max(time_step_X, time_step_Y)):\n",
        "        # 나머지 변수에 대해 4일 동안의 데이터를 X에 추가\n",
        "        X.append(data[i:(i + time_step_X)])\n",
        "        # PM10 변수에 대해 3일 동안의 데이터를 Y에 추가\n",
        "        Y.append(data[i + time_step_Y, 3])  # PM10은 네 번째 열 (인덱스 3)\n",
        "    return np.array(X), np.array(Y)"
      ],
      "metadata": {
        "id": "UhG-vjpzpZHy"
      },
      "execution_count": 11,
      "outputs": []
    },
    {
      "cell_type": "markdown",
      "source": [
        "- time_step을 `pm10`과 나머지 변수에 대해 각각 다르게 설정\n",
        "\n",
        "- 앞서 만든 함수를 이용하여 시계열 데이터 구성\n",
        "\n",
        "- lstm 모델에 학습이 가능한 형태로 데이터 재구성"
      ],
      "metadata": {
        "id": "7Dx3ojI8wjus"
      }
    },
    {
      "cell_type": "code",
      "source": [
        "time_step_Y=72  # 3일간의 데이터\n",
        "time_step_X=96  # 4일간의 데이터\n",
        "X_train, y_train = create_dataset(train_scaled, time_step_X, time_step_Y)\n",
        "X_test, y_test = create_dataset(test_scaled, time_step_X , time_step_Y)\n",
        "\n",
        "X_train = X_train.reshape(X_train.shape[0], time_step_X, X_train.shape[2])\n",
        "X_test = X_test.reshape(X_test.shape[0], time_step_X, X_test.shape[2])"
      ],
      "metadata": {
        "id": "A4rCTJ5oFo_U"
      },
      "execution_count": 16,
      "outputs": []
    },
    {
      "cell_type": "markdown",
      "source": [
        "**모델생성**"
      ],
      "metadata": {
        "id": "LMbWEfXNxTbf"
      }
    },
    {
      "cell_type": "code",
      "source": [
        "# LSTM 모델 생성\n",
        "model = Sequential()\n",
        "model.add(LSTM(50, return_sequences=True, input_shape=(time_step_X, X_train.shape[2])))\n",
        "model.add(LSTM(50, return_sequences=False))\n",
        "model.add(Dense(25))\n",
        "model.add(Dense(1))\n",
        "\n",
        "model.compile(optimizer='adam', loss='mean_squared_error')"
      ],
      "metadata": {
        "id": "hjvH7cke9T9V"
      },
      "execution_count": 18,
      "outputs": []
    },
    {
      "cell_type": "markdown",
      "source": [
        "**모델학습**"
      ],
      "metadata": {
        "id": "jFjjT2xrxVpn"
      }
    },
    {
      "cell_type": "code",
      "source": [
        "model.fit(X_train, y_train, batch_size=16, epochs=20, validation_data=(X_test, y_test))"
      ],
      "metadata": {
        "colab": {
          "base_uri": "https://localhost:8080/"
        },
        "id": "pROjYclc9WRT",
        "outputId": "06e36364-ae95-40f8-b642-3ee7cd3fc71f"
      },
      "execution_count": 19,
      "outputs": [
        {
          "output_type": "stream",
          "name": "stdout",
          "text": [
            "Epoch 1/20\n",
            "508/508 [==============================] - 50s 91ms/step - loss: 0.0086 - val_loss: 0.0052\n",
            "Epoch 2/20\n",
            "508/508 [==============================] - 42s 83ms/step - loss: 0.0043 - val_loss: 0.0038\n",
            "Epoch 3/20\n",
            "508/508 [==============================] - 42s 83ms/step - loss: 0.0037 - val_loss: 0.0036\n",
            "Epoch 4/20\n",
            "508/508 [==============================] - 42s 83ms/step - loss: 0.0034 - val_loss: 0.0028\n",
            "Epoch 5/20\n",
            "508/508 [==============================] - 42s 83ms/step - loss: 0.0031 - val_loss: 0.0024\n",
            "Epoch 6/20\n",
            "508/508 [==============================] - 47s 93ms/step - loss: 0.0027 - val_loss: 0.0034\n",
            "Epoch 7/20\n",
            "508/508 [==============================] - 50s 98ms/step - loss: 0.0027 - val_loss: 0.0025\n",
            "Epoch 8/20\n",
            "508/508 [==============================] - 55s 109ms/step - loss: 0.0024 - val_loss: 0.0019\n",
            "Epoch 9/20\n",
            "508/508 [==============================] - 45s 88ms/step - loss: 0.0023 - val_loss: 0.0016\n",
            "Epoch 10/20\n",
            "508/508 [==============================] - 48s 94ms/step - loss: 0.0023 - val_loss: 0.0016\n",
            "Epoch 11/20\n",
            "508/508 [==============================] - 43s 85ms/step - loss: 0.0021 - val_loss: 0.0019\n",
            "Epoch 12/20\n",
            "508/508 [==============================] - 44s 87ms/step - loss: 0.0022 - val_loss: 0.0014\n",
            "Epoch 13/20\n",
            "508/508 [==============================] - 49s 97ms/step - loss: 0.0020 - val_loss: 0.0016\n",
            "Epoch 14/20\n",
            "508/508 [==============================] - 54s 106ms/step - loss: 0.0019 - val_loss: 0.0014\n",
            "Epoch 15/20\n",
            "508/508 [==============================] - 54s 105ms/step - loss: 0.0018 - val_loss: 0.0014\n",
            "Epoch 16/20\n",
            "508/508 [==============================] - 51s 100ms/step - loss: 0.0018 - val_loss: 0.0013\n",
            "Epoch 17/20\n",
            "508/508 [==============================] - 49s 97ms/step - loss: 0.0017 - val_loss: 0.0012\n",
            "Epoch 18/20\n",
            "508/508 [==============================] - 49s 96ms/step - loss: 0.0018 - val_loss: 0.0013\n",
            "Epoch 19/20\n",
            "508/508 [==============================] - 47s 93ms/step - loss: 0.0017 - val_loss: 0.0017\n",
            "Epoch 20/20\n",
            "508/508 [==============================] - 53s 105ms/step - loss: 0.0016 - val_loss: 0.0015\n"
          ]
        },
        {
          "output_type": "execute_result",
          "data": {
            "text/plain": [
              "<keras.src.callbacks.History at 0x78e3cff0ea40>"
            ]
          },
          "metadata": {},
          "execution_count": 19
        }
      ]
    },
    {
      "cell_type": "markdown",
      "source": [
        "**성능평가**"
      ],
      "metadata": {
        "id": "PBHhlKcVxYU4"
      }
    },
    {
      "cell_type": "code",
      "source": [
        "train_predict = model.predict(X_train)\n",
        "test_predict = model.predict(X_test)\n",
        "\n",
        "# 성능 평가\n",
        "mae = mean_absolute_error(y_test, test_predict)\n",
        "mse = mean_squared_error(y_test, test_predict)\n",
        "rmse = np.sqrt(mse)\n",
        "\n",
        "print(f'MAE: {mae}, MSE: {mse}, RMSE: {rmse}')"
      ],
      "metadata": {
        "colab": {
          "base_uri": "https://localhost:8080/"
        },
        "id": "tB0jVVK2AOTk",
        "outputId": "03d7989b-c9e1-429a-95a1-2af76fac9214"
      },
      "execution_count": 20,
      "outputs": [
        {
          "output_type": "stream",
          "name": "stdout",
          "text": [
            "254/254 [==============================] - 7s 25ms/step\n",
            "61/61 [==============================] - 1s 24ms/step\n",
            "MAE: 0.028255972392607697, MSE: 0.0014522786130558543, RMSE: 0.0381087734394044\n"
          ]
        }
      ]
    }
  ]
}
