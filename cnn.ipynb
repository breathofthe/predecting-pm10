{
  "nbformat": 4,
  "nbformat_minor": 0,
  "metadata": {
    "colab": {
      "provenance": []
    },
    "kernelspec": {
      "name": "python3",
      "display_name": "Python 3"
    },
    "language_info": {
      "name": "python"
    }
  },
  "cells": [
    {
      "cell_type": "code",
      "source": [
        "pip install tensorflow\n"
      ],
      "metadata": {
        "collapsed": true,
        "colab": {
          "base_uri": "https://localhost:8080/"
        },
        "id": "lyx6C1yJCdNb",
        "outputId": "297dfd01-8853-44ff-c3b6-042ed0044520"
      },
      "execution_count": 2,
      "outputs": [
        {
          "output_type": "stream",
          "name": "stdout",
          "text": [
            "Requirement already satisfied: tensorflow in /usr/local/lib/python3.10/dist-packages (2.15.0)\n",
            "Requirement already satisfied: absl-py>=1.0.0 in /usr/local/lib/python3.10/dist-packages (from tensorflow) (1.4.0)\n",
            "Requirement already satisfied: astunparse>=1.6.0 in /usr/local/lib/python3.10/dist-packages (from tensorflow) (1.6.3)\n",
            "Requirement already satisfied: flatbuffers>=23.5.26 in /usr/local/lib/python3.10/dist-packages (from tensorflow) (24.3.25)\n",
            "Requirement already satisfied: gast!=0.5.0,!=0.5.1,!=0.5.2,>=0.2.1 in /usr/local/lib/python3.10/dist-packages (from tensorflow) (0.5.4)\n",
            "Requirement already satisfied: google-pasta>=0.1.1 in /usr/local/lib/python3.10/dist-packages (from tensorflow) (0.2.0)\n",
            "Requirement already satisfied: h5py>=2.9.0 in /usr/local/lib/python3.10/dist-packages (from tensorflow) (3.9.0)\n",
            "Requirement already satisfied: libclang>=13.0.0 in /usr/local/lib/python3.10/dist-packages (from tensorflow) (18.1.1)\n",
            "Requirement already satisfied: ml-dtypes~=0.2.0 in /usr/local/lib/python3.10/dist-packages (from tensorflow) (0.2.0)\n",
            "Requirement already satisfied: numpy<2.0.0,>=1.23.5 in /usr/local/lib/python3.10/dist-packages (from tensorflow) (1.25.2)\n",
            "Requirement already satisfied: opt-einsum>=2.3.2 in /usr/local/lib/python3.10/dist-packages (from tensorflow) (3.3.0)\n",
            "Requirement already satisfied: packaging in /usr/local/lib/python3.10/dist-packages (from tensorflow) (24.0)\n",
            "Requirement already satisfied: protobuf!=4.21.0,!=4.21.1,!=4.21.2,!=4.21.3,!=4.21.4,!=4.21.5,<5.0.0dev,>=3.20.3 in /usr/local/lib/python3.10/dist-packages (from tensorflow) (3.20.3)\n",
            "Requirement already satisfied: setuptools in /usr/local/lib/python3.10/dist-packages (from tensorflow) (67.7.2)\n",
            "Requirement already satisfied: six>=1.12.0 in /usr/local/lib/python3.10/dist-packages (from tensorflow) (1.16.0)\n",
            "Requirement already satisfied: termcolor>=1.1.0 in /usr/local/lib/python3.10/dist-packages (from tensorflow) (2.4.0)\n",
            "Requirement already satisfied: typing-extensions>=3.6.6 in /usr/local/lib/python3.10/dist-packages (from tensorflow) (4.12.1)\n",
            "Requirement already satisfied: wrapt<1.15,>=1.11.0 in /usr/local/lib/python3.10/dist-packages (from tensorflow) (1.14.1)\n",
            "Requirement already satisfied: tensorflow-io-gcs-filesystem>=0.23.1 in /usr/local/lib/python3.10/dist-packages (from tensorflow) (0.37.0)\n",
            "Requirement already satisfied: grpcio<2.0,>=1.24.3 in /usr/local/lib/python3.10/dist-packages (from tensorflow) (1.64.1)\n",
            "Requirement already satisfied: tensorboard<2.16,>=2.15 in /usr/local/lib/python3.10/dist-packages (from tensorflow) (2.15.2)\n",
            "Requirement already satisfied: tensorflow-estimator<2.16,>=2.15.0 in /usr/local/lib/python3.10/dist-packages (from tensorflow) (2.15.0)\n",
            "Requirement already satisfied: keras<2.16,>=2.15.0 in /usr/local/lib/python3.10/dist-packages (from tensorflow) (2.15.0)\n",
            "Requirement already satisfied: wheel<1.0,>=0.23.0 in /usr/local/lib/python3.10/dist-packages (from astunparse>=1.6.0->tensorflow) (0.43.0)\n",
            "Requirement already satisfied: google-auth<3,>=1.6.3 in /usr/local/lib/python3.10/dist-packages (from tensorboard<2.16,>=2.15->tensorflow) (2.27.0)\n",
            "Requirement already satisfied: google-auth-oauthlib<2,>=0.5 in /usr/local/lib/python3.10/dist-packages (from tensorboard<2.16,>=2.15->tensorflow) (1.2.0)\n",
            "Requirement already satisfied: markdown>=2.6.8 in /usr/local/lib/python3.10/dist-packages (from tensorboard<2.16,>=2.15->tensorflow) (3.6)\n",
            "Requirement already satisfied: requests<3,>=2.21.0 in /usr/local/lib/python3.10/dist-packages (from tensorboard<2.16,>=2.15->tensorflow) (2.31.0)\n",
            "Requirement already satisfied: tensorboard-data-server<0.8.0,>=0.7.0 in /usr/local/lib/python3.10/dist-packages (from tensorboard<2.16,>=2.15->tensorflow) (0.7.2)\n",
            "Requirement already satisfied: werkzeug>=1.0.1 in /usr/local/lib/python3.10/dist-packages (from tensorboard<2.16,>=2.15->tensorflow) (3.0.3)\n",
            "Requirement already satisfied: cachetools<6.0,>=2.0.0 in /usr/local/lib/python3.10/dist-packages (from google-auth<3,>=1.6.3->tensorboard<2.16,>=2.15->tensorflow) (5.3.3)\n",
            "Requirement already satisfied: pyasn1-modules>=0.2.1 in /usr/local/lib/python3.10/dist-packages (from google-auth<3,>=1.6.3->tensorboard<2.16,>=2.15->tensorflow) (0.4.0)\n",
            "Requirement already satisfied: rsa<5,>=3.1.4 in /usr/local/lib/python3.10/dist-packages (from google-auth<3,>=1.6.3->tensorboard<2.16,>=2.15->tensorflow) (4.9)\n",
            "Requirement already satisfied: requests-oauthlib>=0.7.0 in /usr/local/lib/python3.10/dist-packages (from google-auth-oauthlib<2,>=0.5->tensorboard<2.16,>=2.15->tensorflow) (1.3.1)\n",
            "Requirement already satisfied: charset-normalizer<4,>=2 in /usr/local/lib/python3.10/dist-packages (from requests<3,>=2.21.0->tensorboard<2.16,>=2.15->tensorflow) (3.3.2)\n",
            "Requirement already satisfied: idna<4,>=2.5 in /usr/local/lib/python3.10/dist-packages (from requests<3,>=2.21.0->tensorboard<2.16,>=2.15->tensorflow) (3.7)\n",
            "Requirement already satisfied: urllib3<3,>=1.21.1 in /usr/local/lib/python3.10/dist-packages (from requests<3,>=2.21.0->tensorboard<2.16,>=2.15->tensorflow) (2.0.7)\n",
            "Requirement already satisfied: certifi>=2017.4.17 in /usr/local/lib/python3.10/dist-packages (from requests<3,>=2.21.0->tensorboard<2.16,>=2.15->tensorflow) (2024.6.2)\n",
            "Requirement already satisfied: MarkupSafe>=2.1.1 in /usr/local/lib/python3.10/dist-packages (from werkzeug>=1.0.1->tensorboard<2.16,>=2.15->tensorflow) (2.1.5)\n",
            "Requirement already satisfied: pyasn1<0.7.0,>=0.4.6 in /usr/local/lib/python3.10/dist-packages (from pyasn1-modules>=0.2.1->google-auth<3,>=1.6.3->tensorboard<2.16,>=2.15->tensorflow) (0.6.0)\n",
            "Requirement already satisfied: oauthlib>=3.0.0 in /usr/local/lib/python3.10/dist-packages (from requests-oauthlib>=0.7.0->google-auth-oauthlib<2,>=0.5->tensorboard<2.16,>=2.15->tensorflow) (3.2.2)\n"
          ]
        }
      ]
    },
    {
      "cell_type": "code",
      "source": [
        "import pandas as pd\n",
        "import numpy as np\n",
        "from sklearn.preprocessing import MinMaxScaler\n",
        "from tensorflow.keras.models import Sequential\n",
        "from tensorflow.keras.layers import Dense, Conv1D, MaxPooling1D, Flatten\n",
        "from sklearn.metrics import mean_absolute_error, mean_squared_error\n",
        "\n",
        "# 데이터 불러오기\n",
        "file_path = '/content/PM10_fin_2.csv'\n",
        "data = pd.read_csv(file_path, index_col='Date', parse_dates=True)\n",
        "\n",
        "# 훈련 데이터와 테스트 데이터로 분할\n",
        "train_data = data['2020-09-01':'2021-09-30']\n",
        "test_data = data['2021-10-01':'2021-12-31']\n",
        "\n",
        "# 데이터 스케일링\n",
        "scaler = MinMaxScaler()\n",
        "train_scaled = scaler.fit_transform(train_data.iloc[:, 1:])\n",
        "test_scaled = scaler.transform(test_data.iloc[:, 1:])\n",
        "\n",
        "def create_dataset(data, time_step_X=4, time_step_Y=3):\n",
        "    X, Y = [], []\n",
        "    for i in range(len(data) - max(time_step_X, time_step_Y)):\n",
        "        X.append(data[i:(i + time_step_X)])\n",
        "        Y.append(data[i + time_step_Y, 3])  # PM10은 네 번째 열 (인덱스 3)\n",
        "    return np.array(X), np.array(Y)\n",
        "\n",
        "# 데이터셋 생성\n",
        "time_step_Y = 72  # 3일간의 데이터\n",
        "time_step_X = 96  # 4일간의 데이터\n",
        "X_train, y_train = create_dataset(train_scaled, time_step_X, time_step_Y)\n",
        "X_test, y_test = create_dataset(test_scaled, time_step_X, time_step_Y)\n",
        "\n",
        "# CNN 입력 형식으로 데이터 reshape\n",
        "X_train = X_train.reshape(X_train.shape[0], X_train.shape[1], X_train.shape[2])\n",
        "X_test = X_test.reshape(X_test.shape[0], X_test.shape[1], X_test.shape[2])\n",
        "\n",
        "# CNN 모델 생성\n",
        "model = Sequential()\n",
        "model.add(Conv1D(filters=64, kernel_size=2, activation='relu', input_shape=(time_step_X, X_train.shape[2])))\n",
        "model.add(MaxPooling1D(pool_size=2))\n",
        "model.add(Flatten())\n",
        "model.add(Dense(50, activation='relu'))\n",
        "model.add(Dense(1))\n",
        "\n",
        "model.compile(optimizer='adam', loss='mean_squared_error')\n",
        "\n",
        "# 모델 훈련\n",
        "model.fit(X_train, y_train, batch_size=16, epochs=20, validation_data=(X_test, y_test))\n",
        "\n",
        "# 예측\n",
        "train_predict = model.predict(X_train)\n",
        "test_predict = model.predict(X_test)\n",
        "\n",
        "# 성능 평가\n",
        "mae = mean_absolute_error(y_test, test_predict)\n",
        "mse = mean_squared_error(y_test, test_predict)\n",
        "rmse = np.sqrt(mse)\n",
        "\n",
        "print(f'MAE: {mae}, MSE: {mse}, RMSE: {rmse}')\n"
      ],
      "metadata": {
        "colab": {
          "base_uri": "https://localhost:8080/"
        },
        "id": "apDZzx59EYli",
        "outputId": "0187a618-d448-4eed-9a78-213e74f1b535"
      },
      "execution_count": 5,
      "outputs": [
        {
          "output_type": "stream",
          "name": "stdout",
          "text": [
            "Epoch 1/20\n",
            "508/508 [==============================] - 7s 11ms/step - loss: 0.0070 - val_loss: 0.0044\n",
            "Epoch 2/20\n",
            "508/508 [==============================] - 3s 7ms/step - loss: 0.0017 - val_loss: 9.7364e-04\n",
            "Epoch 3/20\n",
            "508/508 [==============================] - 3s 6ms/step - loss: 0.0011 - val_loss: 0.0010\n",
            "Epoch 4/20\n",
            "508/508 [==============================] - 4s 7ms/step - loss: 8.4937e-04 - val_loss: 6.0167e-04\n",
            "Epoch 5/20\n",
            "508/508 [==============================] - 4s 9ms/step - loss: 6.9523e-04 - val_loss: 5.0378e-04\n",
            "Epoch 6/20\n",
            "508/508 [==============================] - 3s 6ms/step - loss: 5.6704e-04 - val_loss: 4.8637e-04\n",
            "Epoch 7/20\n",
            "508/508 [==============================] - 3s 6ms/step - loss: 4.9672e-04 - val_loss: 5.4166e-04\n",
            "Epoch 8/20\n",
            "508/508 [==============================] - 4s 8ms/step - loss: 4.0584e-04 - val_loss: 3.7362e-04\n",
            "Epoch 9/20\n",
            "508/508 [==============================] - 4s 8ms/step - loss: 3.7165e-04 - val_loss: 5.9007e-04\n",
            "Epoch 10/20\n",
            "508/508 [==============================] - 3s 6ms/step - loss: 3.2072e-04 - val_loss: 4.7808e-04\n",
            "Epoch 11/20\n",
            "508/508 [==============================] - 3s 6ms/step - loss: 2.6335e-04 - val_loss: 1.8379e-04\n",
            "Epoch 12/20\n",
            "508/508 [==============================] - 4s 8ms/step - loss: 2.3544e-04 - val_loss: 1.9788e-04\n",
            "Epoch 13/20\n",
            "508/508 [==============================] - 4s 7ms/step - loss: 2.0955e-04 - val_loss: 1.5503e-04\n",
            "Epoch 14/20\n",
            "508/508 [==============================] - 3s 6ms/step - loss: 2.1169e-04 - val_loss: 1.5083e-04\n",
            "Epoch 15/20\n",
            "508/508 [==============================] - 3s 6ms/step - loss: 1.8904e-04 - val_loss: 5.2926e-04\n",
            "Epoch 16/20\n",
            "508/508 [==============================] - 5s 9ms/step - loss: 2.1644e-04 - val_loss: 1.2758e-04\n",
            "Epoch 17/20\n",
            "508/508 [==============================] - 3s 7ms/step - loss: 1.8309e-04 - val_loss: 1.4754e-04\n",
            "Epoch 18/20\n",
            "508/508 [==============================] - 3s 6ms/step - loss: 1.6169e-04 - val_loss: 5.7282e-04\n",
            "Epoch 19/20\n",
            "508/508 [==============================] - 3s 6ms/step - loss: 1.5837e-04 - val_loss: 2.8929e-04\n",
            "Epoch 20/20\n",
            "508/508 [==============================] - 5s 10ms/step - loss: 1.4561e-04 - val_loss: 1.1951e-04\n",
            "254/254 [==============================] - 1s 3ms/step\n",
            "61/61 [==============================] - 0s 3ms/step\n",
            "MAE: 0.008613129733668437, MSE: 0.00011950828828409425, RMSE: 0.010931984645255145\n"
          ]
        }
      ]
    }
  ]
}